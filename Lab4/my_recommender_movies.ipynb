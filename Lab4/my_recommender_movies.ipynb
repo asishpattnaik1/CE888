{
  "nbformat": 4,
  "nbformat_minor": 0,
  "metadata": {
    "colab": {
      "name": "my_recommender_movies.ipynb",
      "provenance": [],
      "authorship_tag": "ABX9TyOo//ieLkjcnoSHq8PunZiU",
      "include_colab_link": true
    },
    "kernelspec": {
      "name": "python3",
      "display_name": "Python 3"
    },
    "language_info": {
      "name": "python"
    }
  },
  "cells": [
    {
      "cell_type": "markdown",
      "metadata": {
        "id": "view-in-github",
        "colab_type": "text"
      },
      "source": [
        "<a href=\"https://colab.research.google.com/github/asishpattnaik1/CE888/blob/main/Lab4/my_recommender_movies.ipynb\" target=\"_parent\"><img src=\"https://colab.research.google.com/assets/colab-badge.svg\" alt=\"Open In Colab\"/></a>"
      ]
    },
    {
      "cell_type": "code",
      "metadata": {
        "id": "CYiUxQleh5CF"
      },
      "source": [
        "import pandas as pd\n",
        "import numpy as np\n",
        "import operator"
      ],
      "execution_count": 3,
      "outputs": []
    },
    {
      "cell_type": "code",
      "metadata": {
        "id": "DAsuAESxiBfT"
      },
      "source": [
        "df0 = pd.ExcelFile('https://github.com/albanda/CE888/blob/master/lab4-recommender/movies_latent_factors.xlsx?raw=true')"
      ],
      "execution_count": 4,
      "outputs": []
    },
    {
      "cell_type": "code",
      "metadata": {
        "colab": {
          "base_uri": "https://localhost:8080/"
        },
        "id": "9azvQHsEiWUF",
        "outputId": "3c36f2f3-cd35-46e3-b536-e9e5eade27d5"
      },
      "source": [
        "df0.sheet_names"
      ],
      "execution_count": 5,
      "outputs": [
        {
          "output_type": "execute_result",
          "data": {
            "text/plain": [
              "['Items', 'Users']"
            ]
          },
          "metadata": {
            "tags": []
          },
          "execution_count": 5
        }
      ]
    },
    {
      "cell_type": "code",
      "metadata": {
        "id": "AKFK_m3oiYvd"
      },
      "source": [
        "\n",
        "df_Items = pd.read_excel('https://github.com/albanda/CE888/blob/master/lab4-recommender/movies_latent_factors.xlsx?raw=true',sheet_name='Items',index_col=None)"
      ],
      "execution_count": 6,
      "outputs": []
    },
    {
      "cell_type": "code",
      "metadata": {
        "colab": {
          "base_uri": "https://localhost:8080/",
          "height": 499
        },
        "id": "47daO2j-if4s",
        "outputId": "0a952dcc-5642-45aa-ee6f-ecdaf4a18b34"
      },
      "source": [
        "df_Items.head()"
      ],
      "execution_count": 7,
      "outputs": [
        {
          "output_type": "execute_result",
          "data": {
            "text/html": [
              "<div>\n",
              "<style scoped>\n",
              "    .dataframe tbody tr th:only-of-type {\n",
              "        vertical-align: middle;\n",
              "    }\n",
              "\n",
              "    .dataframe tbody tr th {\n",
              "        vertical-align: top;\n",
              "    }\n",
              "\n",
              "    .dataframe thead th {\n",
              "        text-align: right;\n",
              "    }\n",
              "</style>\n",
              "<table border=\"1\" class=\"dataframe\">\n",
              "  <thead>\n",
              "    <tr style=\"text-align: right;\">\n",
              "      <th></th>\n",
              "      <th>Movie ID</th>\n",
              "      <th>Title</th>\n",
              "      <th>Factor1</th>\n",
              "      <th>Factor2</th>\n",
              "      <th>Factor3</th>\n",
              "      <th>Factor4</th>\n",
              "      <th>Factor5</th>\n",
              "      <th>Factor6</th>\n",
              "      <th>Factor7</th>\n",
              "      <th>Factor8</th>\n",
              "      <th>Factor9</th>\n",
              "      <th>Factor10</th>\n",
              "      <th>Factor11</th>\n",
              "      <th>Factor12</th>\n",
              "      <th>Factor13</th>\n",
              "      <th>Factor14</th>\n",
              "      <th>Factor15</th>\n",
              "    </tr>\n",
              "  </thead>\n",
              "  <tbody>\n",
              "    <tr>\n",
              "      <th>0</th>\n",
              "      <td>11</td>\n",
              "      <td>Star Wars: Episode IV - A New Hope (1977)</td>\n",
              "      <td>-1.521848</td>\n",
              "      <td>-1.038507</td>\n",
              "      <td>2.027269</td>\n",
              "      <td>0.247933</td>\n",
              "      <td>-0.594548</td>\n",
              "      <td>2.513260</td>\n",
              "      <td>-1.848910</td>\n",
              "      <td>0.476710</td>\n",
              "      <td>-0.224146</td>\n",
              "      <td>-0.760681</td>\n",
              "      <td>-0.973915</td>\n",
              "      <td>0.862379</td>\n",
              "      <td>0.403861</td>\n",
              "      <td>1.129616</td>\n",
              "      <td>-0.248806</td>\n",
              "    </tr>\n",
              "    <tr>\n",
              "      <th>1</th>\n",
              "      <td>12</td>\n",
              "      <td>Finding Nemo (2003)</td>\n",
              "      <td>-0.342185</td>\n",
              "      <td>-0.296586</td>\n",
              "      <td>-0.385962</td>\n",
              "      <td>2.443297</td>\n",
              "      <td>-1.097015</td>\n",
              "      <td>-0.619465</td>\n",
              "      <td>0.572887</td>\n",
              "      <td>0.329516</td>\n",
              "      <td>-0.712228</td>\n",
              "      <td>0.323554</td>\n",
              "      <td>-0.561948</td>\n",
              "      <td>-0.142405</td>\n",
              "      <td>-0.564415</td>\n",
              "      <td>0.506876</td>\n",
              "      <td>1.274993</td>\n",
              "    </tr>\n",
              "    <tr>\n",
              "      <th>2</th>\n",
              "      <td>13</td>\n",
              "      <td>Forrest Gump (1994)</td>\n",
              "      <td>-2.240888</td>\n",
              "      <td>-0.438815</td>\n",
              "      <td>-2.275177</td>\n",
              "      <td>0.614548</td>\n",
              "      <td>0.904469</td>\n",
              "      <td>0.711919</td>\n",
              "      <td>-0.420876</td>\n",
              "      <td>1.302036</td>\n",
              "      <td>-0.868418</td>\n",
              "      <td>-0.160122</td>\n",
              "      <td>0.633667</td>\n",
              "      <td>0.133138</td>\n",
              "      <td>-0.330276</td>\n",
              "      <td>-2.209004</td>\n",
              "      <td>-0.419092</td>\n",
              "    </tr>\n",
              "    <tr>\n",
              "      <th>3</th>\n",
              "      <td>14</td>\n",
              "      <td>American Beauty (1999)</td>\n",
              "      <td>-0.634531</td>\n",
              "      <td>2.186059</td>\n",
              "      <td>-0.066681</td>\n",
              "      <td>0.086197</td>\n",
              "      <td>0.517558</td>\n",
              "      <td>-0.185319</td>\n",
              "      <td>-0.412352</td>\n",
              "      <td>0.063841</td>\n",
              "      <td>0.075937</td>\n",
              "      <td>-0.577682</td>\n",
              "      <td>0.526803</td>\n",
              "      <td>-1.465557</td>\n",
              "      <td>-0.819682</td>\n",
              "      <td>0.549010</td>\n",
              "      <td>-0.681191</td>\n",
              "    </tr>\n",
              "    <tr>\n",
              "      <th>4</th>\n",
              "      <td>22</td>\n",
              "      <td>Pirates of the Caribbean: The Curse of the Bla...</td>\n",
              "      <td>0.517348</td>\n",
              "      <td>-1.456763</td>\n",
              "      <td>0.369161</td>\n",
              "      <td>0.073903</td>\n",
              "      <td>-0.098332</td>\n",
              "      <td>-0.594722</td>\n",
              "      <td>0.828888</td>\n",
              "      <td>0.033626</td>\n",
              "      <td>-0.707414</td>\n",
              "      <td>0.717877</td>\n",
              "      <td>1.394326</td>\n",
              "      <td>-0.786986</td>\n",
              "      <td>1.429191</td>\n",
              "      <td>0.855746</td>\n",
              "      <td>-2.292566</td>\n",
              "    </tr>\n",
              "  </tbody>\n",
              "</table>\n",
              "</div>"
            ],
            "text/plain": [
              "   Movie ID  ...  Factor15\n",
              "0        11  ... -0.248806\n",
              "1        12  ...  1.274993\n",
              "2        13  ... -0.419092\n",
              "3        14  ... -0.681191\n",
              "4        22  ... -2.292566\n",
              "\n",
              "[5 rows x 17 columns]"
            ]
          },
          "metadata": {
            "tags": []
          },
          "execution_count": 7
        }
      ]
    },
    {
      "cell_type": "code",
      "metadata": {
        "id": "sg4JgcsHilEo"
      },
      "source": [
        "df_Users = pd.read_excel('https://github.com/albanda/CE888/blob/master/lab4-recommender/movies_latent_factors.xlsx?raw=true',sheet_name='Users', index_col=None)"
      ],
      "execution_count": 8,
      "outputs": []
    },
    {
      "cell_type": "code",
      "metadata": {
        "colab": {
          "base_uri": "https://localhost:8080/",
          "height": 222
        },
        "id": "IWYbzLbyinri",
        "outputId": "1f0559f0-d46e-40e9-8df7-8f04a7f2811c"
      },
      "source": [
        "df_Users.head()"
      ],
      "execution_count": 9,
      "outputs": [
        {
          "output_type": "execute_result",
          "data": {
            "text/html": [
              "<div>\n",
              "<style scoped>\n",
              "    .dataframe tbody tr th:only-of-type {\n",
              "        vertical-align: middle;\n",
              "    }\n",
              "\n",
              "    .dataframe tbody tr th {\n",
              "        vertical-align: top;\n",
              "    }\n",
              "\n",
              "    .dataframe thead th {\n",
              "        text-align: right;\n",
              "    }\n",
              "</style>\n",
              "<table border=\"1\" class=\"dataframe\">\n",
              "  <thead>\n",
              "    <tr style=\"text-align: right;\">\n",
              "      <th></th>\n",
              "      <th>User</th>\n",
              "      <th>Factor1</th>\n",
              "      <th>Factor2</th>\n",
              "      <th>Factor3</th>\n",
              "      <th>Factor4</th>\n",
              "      <th>Factor5</th>\n",
              "      <th>Factor6</th>\n",
              "      <th>Factor7</th>\n",
              "      <th>Factor8</th>\n",
              "      <th>Factor9</th>\n",
              "      <th>Factor10</th>\n",
              "      <th>Factor11</th>\n",
              "      <th>Factor12</th>\n",
              "      <th>Factor13</th>\n",
              "      <th>Factor14</th>\n",
              "      <th>Factor15</th>\n",
              "    </tr>\n",
              "  </thead>\n",
              "  <tbody>\n",
              "    <tr>\n",
              "      <th>0</th>\n",
              "      <td>4768</td>\n",
              "      <td>-0.204024</td>\n",
              "      <td>0.161079</td>\n",
              "      <td>-0.090447</td>\n",
              "      <td>0.138495</td>\n",
              "      <td>-0.162934</td>\n",
              "      <td>0.163894</td>\n",
              "      <td>0.051502</td>\n",
              "      <td>-0.088582</td>\n",
              "      <td>0.126829</td>\n",
              "      <td>0.065967</td>\n",
              "      <td>0.085008</td>\n",
              "      <td>0.355404</td>\n",
              "      <td>0.007108</td>\n",
              "      <td>-0.118663</td>\n",
              "      <td>-0.039125</td>\n",
              "    </tr>\n",
              "    <tr>\n",
              "      <th>1</th>\n",
              "      <td>156</td>\n",
              "      <td>-0.189652</td>\n",
              "      <td>-0.178979</td>\n",
              "      <td>-0.091490</td>\n",
              "      <td>-0.000823</td>\n",
              "      <td>-0.032646</td>\n",
              "      <td>0.177209</td>\n",
              "      <td>-0.098123</td>\n",
              "      <td>-0.068283</td>\n",
              "      <td>-0.011575</td>\n",
              "      <td>0.120866</td>\n",
              "      <td>-0.009931</td>\n",
              "      <td>-0.048606</td>\n",
              "      <td>0.045916</td>\n",
              "      <td>0.113671</td>\n",
              "      <td>0.179873</td>\n",
              "    </tr>\n",
              "    <tr>\n",
              "      <th>2</th>\n",
              "      <td>5323</td>\n",
              "      <td>-0.115308</td>\n",
              "      <td>-0.090886</td>\n",
              "      <td>-0.053129</td>\n",
              "      <td>0.018472</td>\n",
              "      <td>-0.068081</td>\n",
              "      <td>-0.004828</td>\n",
              "      <td>0.113005</td>\n",
              "      <td>0.102107</td>\n",
              "      <td>0.034758</td>\n",
              "      <td>0.000693</td>\n",
              "      <td>-0.073712</td>\n",
              "      <td>-0.019460</td>\n",
              "      <td>0.108372</td>\n",
              "      <td>0.054471</td>\n",
              "      <td>-0.109552</td>\n",
              "    </tr>\n",
              "    <tr>\n",
              "      <th>3</th>\n",
              "      <td>174</td>\n",
              "      <td>-0.227462</td>\n",
              "      <td>-0.272532</td>\n",
              "      <td>-0.017231</td>\n",
              "      <td>0.054324</td>\n",
              "      <td>0.214755</td>\n",
              "      <td>-0.072639</td>\n",
              "      <td>-0.033122</td>\n",
              "      <td>-0.086508</td>\n",
              "      <td>-0.131479</td>\n",
              "      <td>0.180403</td>\n",
              "      <td>0.095890</td>\n",
              "      <td>-0.082396</td>\n",
              "      <td>0.036767</td>\n",
              "      <td>-0.165438</td>\n",
              "      <td>0.050692</td>\n",
              "    </tr>\n",
              "    <tr>\n",
              "      <th>4</th>\n",
              "      <td>4529</td>\n",
              "      <td>-0.014616</td>\n",
              "      <td>-0.102218</td>\n",
              "      <td>-0.107935</td>\n",
              "      <td>0.155784</td>\n",
              "      <td>-0.123362</td>\n",
              "      <td>-0.118228</td>\n",
              "      <td>-0.013549</td>\n",
              "      <td>-0.050622</td>\n",
              "      <td>0.058698</td>\n",
              "      <td>-0.159600</td>\n",
              "      <td>-0.142382</td>\n",
              "      <td>-0.132836</td>\n",
              "      <td>-0.039897</td>\n",
              "      <td>0.129063</td>\n",
              "      <td>0.102669</td>\n",
              "    </tr>\n",
              "  </tbody>\n",
              "</table>\n",
              "</div>"
            ],
            "text/plain": [
              "   User   Factor1   Factor2   Factor3  ...  Factor12  Factor13  Factor14  Factor15\n",
              "0  4768 -0.204024  0.161079 -0.090447  ...  0.355404  0.007108 -0.118663 -0.039125\n",
              "1   156 -0.189652 -0.178979 -0.091490  ... -0.048606  0.045916  0.113671  0.179873\n",
              "2  5323 -0.115308 -0.090886 -0.053129  ... -0.019460  0.108372  0.054471 -0.109552\n",
              "3   174 -0.227462 -0.272532 -0.017231  ... -0.082396  0.036767 -0.165438  0.050692\n",
              "4  4529 -0.014616 -0.102218 -0.107935  ... -0.132836 -0.039897  0.129063  0.102669\n",
              "\n",
              "[5 rows x 16 columns]"
            ]
          },
          "metadata": {
            "tags": []
          },
          "execution_count": 9
        }
      ]
    },
    {
      "cell_type": "code",
      "metadata": {
        "colab": {
          "base_uri": "https://localhost:8080/"
        },
        "id": "R8G7y_kjiqSp",
        "outputId": "d01bcb7f-9649-480b-faef-f959f6926816"
      },
      "source": [
        "df_Users.shape, df_Items.shape"
      ],
      "execution_count": 10,
      "outputs": [
        {
          "output_type": "execute_result",
          "data": {
            "text/plain": [
              "((25, 16), (100, 17))"
            ]
          },
          "metadata": {
            "tags": []
          },
          "execution_count": 10
        }
      ]
    },
    {
      "cell_type": "code",
      "metadata": {
        "id": "2YYHANgPir2G"
      },
      "source": [
        "# Which 3 movies would you recommend to User 2067?\n",
        "#user with ID 768 will give to the movie with ID 268.\n",
        "\n",
        "#num_factors = df_Users.shape[1]-1\n",
        "#user_pref = df_Users[df_Users['User'] == 768].iloc[:, -num_factors:].values[0]\n",
        "#item_feat = df_Items.iloc[:, -num_factors:].values\n",
        "\n",
        "num_factors = df_Users.shape[1]-1\n",
        "user_pref = df_Users[df_Users['User'] == 2067].iloc[:, -num_factors:].values[0]\n",
        "item_feat = df_Items.iloc[:, -num_factors:].values"
      ],
      "execution_count": 61,
      "outputs": []
    },
    {
      "cell_type": "code",
      "metadata": {
        "id": "twL7o4k7q7yX"
      },
      "source": [
        "#user with ID 783 will give to the movie with ID 187.\n",
        "#num_factors = df_Users.shape[1]-1\n",
        "#user_pref = df_Users[df_Users['User'] == 783].iloc[:, -num_factors:].values[0]\n",
        "#item_feat = df_Items.iloc[:, -num_factors:].values"
      ],
      "execution_count": 53,
      "outputs": []
    },
    {
      "cell_type": "code",
      "metadata": {
        "colab": {
          "base_uri": "https://localhost:8080/"
        },
        "id": "K_I30Wopi1Bm",
        "outputId": "8fd8dd8d-b13c-4141-f7db-92ef7151ea77"
      },
      "source": [
        "df_Items[df_Items['Movie ID']==268].index.values[0]"
      ],
      "execution_count": 45,
      "outputs": [
        {
          "output_type": "execute_result",
          "data": {
            "text/plain": [
              "29"
            ]
          },
          "metadata": {
            "tags": []
          },
          "execution_count": 45
        }
      ]
    },
    {
      "cell_type": "code",
      "metadata": {
        "colab": {
          "base_uri": "https://localhost:8080/"
        },
        "id": "pauphQ9VrD8v",
        "outputId": "67d294aa-2e5f-4d4a-e7e6-eda06af121df"
      },
      "source": [
        "df_Items[df_Items['Movie ID']==187].index.values[0]"
      ],
      "execution_count": 54,
      "outputs": [
        {
          "output_type": "execute_result",
          "data": {
            "text/plain": [
              "24"
            ]
          },
          "metadata": {
            "tags": []
          },
          "execution_count": 54
        }
      ]
    },
    {
      "cell_type": "code",
      "metadata": {
        "id": "1892f1YmjPpl"
      },
      "source": [
        "#user with ID 768 will give to the movie with ID 268.\n",
        "#data.iloc[[0,3,6,24], [0,5,6]]\n",
        "df = df_Items.iloc[list(pd.DataFrame(preference).index)]\n",
        "item_feat=df_Items.iloc[[29], -num_factors:].values"
      ],
      "execution_count": 46,
      "outputs": []
    },
    {
      "cell_type": "code",
      "metadata": {
        "id": "LpyI6iQzrLN5"
      },
      "source": [
        "#user with ID 783 will give to the movie with ID 187.\n",
        "#data.iloc[[0,3,6,24], [0,5,6]]\n",
        "df = df_Items.iloc[list(pd.DataFrame(preference).index)]\n",
        "item_feat=df_Items.iloc[[24], -num_factors:].values"
      ],
      "execution_count": 55,
      "outputs": []
    },
    {
      "cell_type": "code",
      "metadata": {
        "id": "Tqz5-0NQjQnz"
      },
      "source": [
        "preference = item_feat.dot(user_pref)"
      ],
      "execution_count": 62,
      "outputs": []
    },
    {
      "cell_type": "code",
      "metadata": {
        "colab": {
          "base_uri": "https://localhost:8080/"
        },
        "id": "p4bq2fwIjT9M",
        "outputId": "45c91041-8c1c-4a34-b2eb-4fb1a3097b83"
      },
      "source": [
        "\n",
        "round(preference[0],2)\n",
        "df_Users.columns[1:]\n",
        "preference"
      ],
      "execution_count": 63,
      "outputs": [
        {
          "output_type": "execute_result",
          "data": {
            "text/plain": [
              "array([-2.39496596e-01,  3.21742637e-01,  8.28941906e-01,  2.67384510e-01,\n",
              "       -4.06868237e-01,  4.21346833e-01,  6.40695664e-02, -2.89341738e-02,\n",
              "        3.04644490e-01,  2.57957416e-02,  8.17015585e-01,  2.82443536e-01,\n",
              "        1.67581619e-01,  4.87496778e-01, -1.95957690e+00, -1.88286055e+00,\n",
              "       -1.82570715e+00, -9.32979771e-02, -5.64339799e-02, -2.60075057e-01,\n",
              "       -2.64279290e-01,  6.18417883e-01,  2.22063204e-01,  1.07924521e-02,\n",
              "        1.25332988e-03, -2.72969323e-02,  6.63749450e-01,  3.91251697e-01,\n",
              "       -1.14533299e-01,  9.27230731e-02,  4.06095852e-01,  4.28709919e-01,\n",
              "        8.37809743e-02,  7.43204720e-01,  1.06485046e-02,  1.24870334e-01,\n",
              "        2.78469650e-01, -3.26307575e-01,  4.18074465e-01,  4.81561603e-01,\n",
              "        2.94590559e-01,  4.46331051e-01,  8.63428705e-02,  4.01526985e-02,\n",
              "        1.31789936e-01,  1.85850204e-01,  1.20896281e-01,  3.92008544e-01,\n",
              "        2.29577716e-01,  4.19386283e-01,  4.32859903e-03, -6.64877728e-01,\n",
              "       -4.74378458e-02,  2.94783751e-01,  3.98158612e-01,  4.55587564e-02,\n",
              "       -2.07591357e-01, -1.98212420e+00, -2.00020586e+00,  3.46903862e-01,\n",
              "        4.91999187e-01,  4.10501266e-01, -7.29721626e-02,  7.23648131e-02,\n",
              "        3.02908968e-01, -2.26034388e-02, -3.11157936e-01,  3.54150085e-01,\n",
              "       -4.53698977e-01,  3.16954656e-01,  3.98265424e-01, -4.16436464e-02,\n",
              "       -3.05981298e-01,  5.10800967e-01,  2.21025082e-01, -8.89217796e-02,\n",
              "        2.35961664e-02, -2.57827503e-01, -2.81656540e-01, -5.88619604e-01,\n",
              "        7.27053551e-02,  2.59824965e-01,  4.70649317e-03, -1.50756329e-01,\n",
              "       -1.92853947e-01, -7.96918309e-01, -6.11439533e-01,  2.83619168e-01,\n",
              "       -1.24345437e-01,  3.58647352e-01, -9.69886516e-01,  6.96350288e-01,\n",
              "        2.64551786e-02, -5.19717826e-02,  1.94985587e-01,  2.61022223e-01,\n",
              "        3.14246947e-01, -7.38089088e-02, -2.00034683e-01,  9.08282060e-03])"
            ]
          },
          "metadata": {
            "tags": []
          },
          "execution_count": 63
        }
      ]
    },
    {
      "cell_type": "code",
      "metadata": {
        "colab": {
          "base_uri": "https://localhost:8080/",
          "height": 662
        },
        "id": "Y_Ge7eByjY9q",
        "outputId": "22f48ee1-c19e-40e7-c1c6-702622e15d6a"
      },
      "source": [
        "pd.DataFrame(preference).head(20)"
      ],
      "execution_count": 64,
      "outputs": [
        {
          "output_type": "execute_result",
          "data": {
            "text/html": [
              "<div>\n",
              "<style scoped>\n",
              "    .dataframe tbody tr th:only-of-type {\n",
              "        vertical-align: middle;\n",
              "    }\n",
              "\n",
              "    .dataframe tbody tr th {\n",
              "        vertical-align: top;\n",
              "    }\n",
              "\n",
              "    .dataframe thead th {\n",
              "        text-align: right;\n",
              "    }\n",
              "</style>\n",
              "<table border=\"1\" class=\"dataframe\">\n",
              "  <thead>\n",
              "    <tr style=\"text-align: right;\">\n",
              "      <th></th>\n",
              "      <th>0</th>\n",
              "    </tr>\n",
              "  </thead>\n",
              "  <tbody>\n",
              "    <tr>\n",
              "      <th>0</th>\n",
              "      <td>-0.239497</td>\n",
              "    </tr>\n",
              "    <tr>\n",
              "      <th>1</th>\n",
              "      <td>0.321743</td>\n",
              "    </tr>\n",
              "    <tr>\n",
              "      <th>2</th>\n",
              "      <td>0.828942</td>\n",
              "    </tr>\n",
              "    <tr>\n",
              "      <th>3</th>\n",
              "      <td>0.267385</td>\n",
              "    </tr>\n",
              "    <tr>\n",
              "      <th>4</th>\n",
              "      <td>-0.406868</td>\n",
              "    </tr>\n",
              "    <tr>\n",
              "      <th>5</th>\n",
              "      <td>0.421347</td>\n",
              "    </tr>\n",
              "    <tr>\n",
              "      <th>6</th>\n",
              "      <td>0.064070</td>\n",
              "    </tr>\n",
              "    <tr>\n",
              "      <th>7</th>\n",
              "      <td>-0.028934</td>\n",
              "    </tr>\n",
              "    <tr>\n",
              "      <th>8</th>\n",
              "      <td>0.304644</td>\n",
              "    </tr>\n",
              "    <tr>\n",
              "      <th>9</th>\n",
              "      <td>0.025796</td>\n",
              "    </tr>\n",
              "    <tr>\n",
              "      <th>10</th>\n",
              "      <td>0.817016</td>\n",
              "    </tr>\n",
              "    <tr>\n",
              "      <th>11</th>\n",
              "      <td>0.282444</td>\n",
              "    </tr>\n",
              "    <tr>\n",
              "      <th>12</th>\n",
              "      <td>0.167582</td>\n",
              "    </tr>\n",
              "    <tr>\n",
              "      <th>13</th>\n",
              "      <td>0.487497</td>\n",
              "    </tr>\n",
              "    <tr>\n",
              "      <th>14</th>\n",
              "      <td>-1.959577</td>\n",
              "    </tr>\n",
              "    <tr>\n",
              "      <th>15</th>\n",
              "      <td>-1.882861</td>\n",
              "    </tr>\n",
              "    <tr>\n",
              "      <th>16</th>\n",
              "      <td>-1.825707</td>\n",
              "    </tr>\n",
              "    <tr>\n",
              "      <th>17</th>\n",
              "      <td>-0.093298</td>\n",
              "    </tr>\n",
              "    <tr>\n",
              "      <th>18</th>\n",
              "      <td>-0.056434</td>\n",
              "    </tr>\n",
              "    <tr>\n",
              "      <th>19</th>\n",
              "      <td>-0.260075</td>\n",
              "    </tr>\n",
              "  </tbody>\n",
              "</table>\n",
              "</div>"
            ],
            "text/plain": [
              "           0\n",
              "0  -0.239497\n",
              "1   0.321743\n",
              "2   0.828942\n",
              "3   0.267385\n",
              "4  -0.406868\n",
              "5   0.421347\n",
              "6   0.064070\n",
              "7  -0.028934\n",
              "8   0.304644\n",
              "9   0.025796\n",
              "10  0.817016\n",
              "11  0.282444\n",
              "12  0.167582\n",
              "13  0.487497\n",
              "14 -1.959577\n",
              "15 -1.882861\n",
              "16 -1.825707\n",
              "17 -0.093298\n",
              "18 -0.056434\n",
              "19 -0.260075"
            ]
          },
          "metadata": {
            "tags": []
          },
          "execution_count": 64
        }
      ]
    },
    {
      "cell_type": "code",
      "metadata": {
        "colab": {
          "base_uri": "https://localhost:8080/"
        },
        "id": "F6Nn4mqNjcbM",
        "outputId": "f308bdd6-4bab-437d-9d9e-651db4d105dc"
      },
      "source": [
        "#values = [zip(df_Users.columns[1:], preference[i]) for i in range(preference.shape[0])]\n",
        "top_values = pd.DataFrame(preference).nlargest(3, 0)\n",
        "top_indices = top_values.index\n",
        "list(top_indices)\n",
        "#comparison_data.columns = df_Users.columns"
      ],
      "execution_count": 67,
      "outputs": [
        {
          "output_type": "execute_result",
          "data": {
            "text/plain": [
              "[2, 10, 33]"
            ]
          },
          "metadata": {
            "tags": []
          },
          "execution_count": 67
        }
      ]
    },
    {
      "cell_type": "code",
      "metadata": {
        "colab": {
          "base_uri": "https://localhost:8080/",
          "height": 282
        },
        "id": "05h-SMuhjfUu",
        "outputId": "6f943fa0-c599-4a80-bd4e-3a47f20b6562"
      },
      "source": [
        "df_Items.iloc[list(top_indices)]"
      ],
      "execution_count": 68,
      "outputs": [
        {
          "output_type": "execute_result",
          "data": {
            "text/html": [
              "<div>\n",
              "<style scoped>\n",
              "    .dataframe tbody tr th:only-of-type {\n",
              "        vertical-align: middle;\n",
              "    }\n",
              "\n",
              "    .dataframe tbody tr th {\n",
              "        vertical-align: top;\n",
              "    }\n",
              "\n",
              "    .dataframe thead th {\n",
              "        text-align: right;\n",
              "    }\n",
              "</style>\n",
              "<table border=\"1\" class=\"dataframe\">\n",
              "  <thead>\n",
              "    <tr style=\"text-align: right;\">\n",
              "      <th></th>\n",
              "      <th>Movie ID</th>\n",
              "      <th>Title</th>\n",
              "      <th>Factor1</th>\n",
              "      <th>Factor2</th>\n",
              "      <th>Factor3</th>\n",
              "      <th>Factor4</th>\n",
              "      <th>Factor5</th>\n",
              "      <th>Factor6</th>\n",
              "      <th>Factor7</th>\n",
              "      <th>Factor8</th>\n",
              "      <th>Factor9</th>\n",
              "      <th>Factor10</th>\n",
              "      <th>Factor11</th>\n",
              "      <th>Factor12</th>\n",
              "      <th>Factor13</th>\n",
              "      <th>Factor14</th>\n",
              "      <th>Factor15</th>\n",
              "    </tr>\n",
              "  </thead>\n",
              "  <tbody>\n",
              "    <tr>\n",
              "      <th>2</th>\n",
              "      <td>13</td>\n",
              "      <td>Forrest Gump (1994)</td>\n",
              "      <td>-2.240888</td>\n",
              "      <td>-0.438815</td>\n",
              "      <td>-2.275177</td>\n",
              "      <td>0.614548</td>\n",
              "      <td>0.904469</td>\n",
              "      <td>0.711919</td>\n",
              "      <td>-0.420876</td>\n",
              "      <td>1.302036</td>\n",
              "      <td>-0.868418</td>\n",
              "      <td>-0.160122</td>\n",
              "      <td>0.633667</td>\n",
              "      <td>0.133138</td>\n",
              "      <td>-0.330276</td>\n",
              "      <td>-2.209004</td>\n",
              "      <td>-0.419092</td>\n",
              "    </tr>\n",
              "    <tr>\n",
              "      <th>10</th>\n",
              "      <td>98</td>\n",
              "      <td>Gladiator (2000)</td>\n",
              "      <td>-1.364852</td>\n",
              "      <td>-1.304136</td>\n",
              "      <td>-1.941623</td>\n",
              "      <td>-0.661007</td>\n",
              "      <td>0.128877</td>\n",
              "      <td>0.007048</td>\n",
              "      <td>0.371097</td>\n",
              "      <td>0.086026</td>\n",
              "      <td>-0.133839</td>\n",
              "      <td>0.548053</td>\n",
              "      <td>-0.827216</td>\n",
              "      <td>0.141476</td>\n",
              "      <td>0.735983</td>\n",
              "      <td>-0.338100</td>\n",
              "      <td>-0.175565</td>\n",
              "    </tr>\n",
              "    <tr>\n",
              "      <th>33</th>\n",
              "      <td>278</td>\n",
              "      <td>The Shawshank Redemption (1994)</td>\n",
              "      <td>-2.780308</td>\n",
              "      <td>-0.088747</td>\n",
              "      <td>-1.821590</td>\n",
              "      <td>-0.157495</td>\n",
              "      <td>0.323285</td>\n",
              "      <td>-0.114768</td>\n",
              "      <td>0.281397</td>\n",
              "      <td>-0.130262</td>\n",
              "      <td>0.028689</td>\n",
              "      <td>-0.810090</td>\n",
              "      <td>-0.229137</td>\n",
              "      <td>0.587575</td>\n",
              "      <td>0.194144</td>\n",
              "      <td>-0.976664</td>\n",
              "      <td>-0.779991</td>\n",
              "    </tr>\n",
              "  </tbody>\n",
              "</table>\n",
              "</div>"
            ],
            "text/plain": [
              "    Movie ID                            Title  ...  Factor14  Factor15\n",
              "2         13              Forrest Gump (1994)  ... -2.209004 -0.419092\n",
              "10        98                 Gladiator (2000)  ... -0.338100 -0.175565\n",
              "33       278  The Shawshank Redemption (1994)  ... -0.976664 -0.779991\n",
              "\n",
              "[3 rows x 17 columns]"
            ]
          },
          "metadata": {
            "tags": []
          },
          "execution_count": 68
        }
      ]
    },
    {
      "cell_type": "code",
      "metadata": {
        "id": "siDshBtGseVd"
      },
      "source": [
        "#Question9- Which 2 movies would you recommend to User 2092?\n",
        "\n",
        "num_factors = df_Users.shape[1]-1\n",
        "user_pref = df_Users[df_Users['User'] == 2092].iloc[:, -num_factors:].values[0]\n",
        "item_feat = df_Items.iloc[:, -num_factors:].values\n",
        "preference = item_feat.dot(user_pref)\n"
      ],
      "execution_count": 70,
      "outputs": []
    },
    {
      "cell_type": "code",
      "metadata": {
        "colab": {
          "base_uri": "https://localhost:8080/"
        },
        "id": "VXt1KV-xsye4",
        "outputId": "6cd657f9-cdb0-432e-e716-79522741a758"
      },
      "source": [
        "round(preference[0],2)\n",
        "df_Users.columns[1:]\n",
        "preference"
      ],
      "execution_count": 71,
      "outputs": [
        {
          "output_type": "execute_result",
          "data": {
            "text/plain": [
              "array([ 0.1474981 ,  0.06983066,  0.05034643,  0.10362144,  0.43445992,\n",
              "       -0.349929  ,  0.10881859,  0.02706829,  0.14355296,  0.24107678,\n",
              "        0.19533595,  0.22597099,  0.25323484, -0.14367942,  0.48778482,\n",
              "        0.40695203,  0.47629982, -0.06796637, -0.00346879, -0.09780667,\n",
              "        0.04007909,  0.23928014,  0.41468031, -0.10614675,  0.03911447,\n",
              "        0.09716218, -0.08133268,  0.46989755, -0.03139847, -0.39115697,\n",
              "       -0.08712855,  0.13940897,  0.003168  ,  0.23871336,  0.1941581 ,\n",
              "       -0.00431458, -0.3496473 , -0.67048872,  0.08852994,  0.17133532,\n",
              "       -0.12681625,  0.56277095, -1.14692595, -1.32254628, -0.13783104,\n",
              "       -0.09532403,  0.13444858, -0.31405841, -0.32126222, -0.06166568,\n",
              "        0.3863941 , -0.32259049,  0.23892751,  0.21541377,  0.21051028,\n",
              "        0.03894228, -0.24252431, -0.420186  , -0.36430616,  0.43727051,\n",
              "       -0.13250326, -0.05173059, -0.13352892, -0.05891093,  0.08372632,\n",
              "        0.36607193,  0.13892302,  0.1063737 ,  0.21083979,  0.0150016 ,\n",
              "        0.15891242,  0.17764034, -0.11926427,  0.20606238,  0.03078869,\n",
              "        0.06230564, -0.07293386,  0.12335491,  0.10818827, -0.53393243,\n",
              "       -0.06780029, -0.1629032 , -0.15628277,  0.39014428,  0.32000195,\n",
              "        0.30814957, -0.39695236,  0.02433334, -0.12281988, -0.16658143,\n",
              "        0.20909678,  0.27225157, -0.12585869, -0.15727396, -0.08124682,\n",
              "       -0.09081308, -0.00218789, -0.5343551 , -0.58609212, -0.02975055])"
            ]
          },
          "metadata": {
            "tags": []
          },
          "execution_count": 71
        }
      ]
    },
    {
      "cell_type": "code",
      "metadata": {
        "colab": {
          "base_uri": "https://localhost:8080/"
        },
        "id": "n_J8GowiszRm",
        "outputId": "512bb65e-b29c-499f-89b0-f1a7d016ca81"
      },
      "source": [
        "#values = [zip(df_Users.columns[1:], preference[i]) for i in range(preference.shape[0])]\n",
        "top_values = pd.DataFrame(preference).nlargest(2, 0)\n",
        "top_indices = top_values.index\n",
        "list(top_indices)\n",
        "#comparison_data.columns = df_Users.columns"
      ],
      "execution_count": 72,
      "outputs": [
        {
          "output_type": "execute_result",
          "data": {
            "text/plain": [
              "[41, 14]"
            ]
          },
          "metadata": {
            "tags": []
          },
          "execution_count": 72
        }
      ]
    },
    {
      "cell_type": "code",
      "metadata": {
        "colab": {
          "base_uri": "https://localhost:8080/",
          "height": 251
        },
        "id": "SGThnOSLtPW6",
        "outputId": "1cfca9b4-6ed9-4df1-effd-19fc8d2398a1"
      },
      "source": [
        "df_Items.iloc[list(top_indices)]"
      ],
      "execution_count": 73,
      "outputs": [
        {
          "output_type": "execute_result",
          "data": {
            "text/html": [
              "<div>\n",
              "<style scoped>\n",
              "    .dataframe tbody tr th:only-of-type {\n",
              "        vertical-align: middle;\n",
              "    }\n",
              "\n",
              "    .dataframe tbody tr th {\n",
              "        vertical-align: top;\n",
              "    }\n",
              "\n",
              "    .dataframe thead th {\n",
              "        text-align: right;\n",
              "    }\n",
              "</style>\n",
              "<table border=\"1\" class=\"dataframe\">\n",
              "  <thead>\n",
              "    <tr style=\"text-align: right;\">\n",
              "      <th></th>\n",
              "      <th>Movie ID</th>\n",
              "      <th>Title</th>\n",
              "      <th>Factor1</th>\n",
              "      <th>Factor2</th>\n",
              "      <th>Factor3</th>\n",
              "      <th>Factor4</th>\n",
              "      <th>Factor5</th>\n",
              "      <th>Factor6</th>\n",
              "      <th>Factor7</th>\n",
              "      <th>Factor8</th>\n",
              "      <th>Factor9</th>\n",
              "      <th>Factor10</th>\n",
              "      <th>Factor11</th>\n",
              "      <th>Factor12</th>\n",
              "      <th>Factor13</th>\n",
              "      <th>Factor14</th>\n",
              "      <th>Factor15</th>\n",
              "    </tr>\n",
              "  </thead>\n",
              "  <tbody>\n",
              "    <tr>\n",
              "      <th>41</th>\n",
              "      <td>550</td>\n",
              "      <td>Fight Club (1999)</td>\n",
              "      <td>-2.186537</td>\n",
              "      <td>1.689500</td>\n",
              "      <td>0.005570</td>\n",
              "      <td>-0.761314</td>\n",
              "      <td>-0.093508</td>\n",
              "      <td>-0.187112</td>\n",
              "      <td>0.855823</td>\n",
              "      <td>-0.926498</td>\n",
              "      <td>-0.895919</td>\n",
              "      <td>-0.318405</td>\n",
              "      <td>0.751968</td>\n",
              "      <td>-0.565576</td>\n",
              "      <td>1.170795</td>\n",
              "      <td>0.761461</td>\n",
              "      <td>-0.724341</td>\n",
              "    </tr>\n",
              "    <tr>\n",
              "      <th>14</th>\n",
              "      <td>120</td>\n",
              "      <td>The Lord of the Rings: The Fellowship of the R...</td>\n",
              "      <td>-2.247395</td>\n",
              "      <td>-2.510061</td>\n",
              "      <td>2.310822</td>\n",
              "      <td>0.376040</td>\n",
              "      <td>2.677432</td>\n",
              "      <td>-0.354463</td>\n",
              "      <td>1.133873</td>\n",
              "      <td>-0.751725</td>\n",
              "      <td>1.444931</td>\n",
              "      <td>1.348524</td>\n",
              "      <td>-0.223710</td>\n",
              "      <td>-0.495453</td>\n",
              "      <td>-0.859071</td>\n",
              "      <td>-0.167967</td>\n",
              "      <td>-0.276280</td>\n",
              "    </tr>\n",
              "  </tbody>\n",
              "</table>\n",
              "</div>"
            ],
            "text/plain": [
              "    Movie ID  ...  Factor15\n",
              "41       550  ... -0.724341\n",
              "14       120  ... -0.276280\n",
              "\n",
              "[2 rows x 17 columns]"
            ]
          },
          "metadata": {
            "tags": []
          },
          "execution_count": 73
        }
      ]
    },
    {
      "cell_type": "code",
      "metadata": {
        "colab": {
          "base_uri": "https://localhost:8080/"
        },
        "id": "qrZxQM3MjjGY",
        "outputId": "5fbc5cd1-db95-416e-f151-9e1b8c71957f"
      },
      "source": [
        "#quiz question-5\n",
        "##Factor1 for the movie with ID=36658\n",
        "#df_Items.head()\n",
        "df_Fator = df_Items[['Movie ID','Factor1']]\n",
        "\n",
        "value = df_Fator[df_Fator['Movie ID']==36658]['Factor1'].values[0]\n",
        "\n",
        "round(value,3)"
      ],
      "execution_count": 18,
      "outputs": [
        {
          "output_type": "execute_result",
          "data": {
            "text/plain": [
              "1.161"
            ]
          },
          "metadata": {
            "tags": []
          },
          "execution_count": 18
        }
      ]
    },
    {
      "cell_type": "code",
      "metadata": {
        "colab": {
          "base_uri": "https://localhost:8080/",
          "height": 415
        },
        "id": "5G1hGpdjj25G",
        "outputId": "54fd2fcd-cb80-41cb-a085-157fe83b23b3"
      },
      "source": [
        "#quiz quesion -6\n",
        "#with the lowest loading of factor 15\n",
        "\n",
        "df_factor2 = df_Items[['Movie ID','Factor15']]\n",
        "df_factor2.sort_values('Factor15')"
      ],
      "execution_count": 19,
      "outputs": [
        {
          "output_type": "execute_result",
          "data": {
            "text/html": [
              "<div>\n",
              "<style scoped>\n",
              "    .dataframe tbody tr th:only-of-type {\n",
              "        vertical-align: middle;\n",
              "    }\n",
              "\n",
              "    .dataframe tbody tr th {\n",
              "        vertical-align: top;\n",
              "    }\n",
              "\n",
              "    .dataframe thead th {\n",
              "        text-align: right;\n",
              "    }\n",
              "</style>\n",
              "<table border=\"1\" class=\"dataframe\">\n",
              "  <thead>\n",
              "    <tr style=\"text-align: right;\">\n",
              "      <th></th>\n",
              "      <th>Movie ID</th>\n",
              "      <th>Factor15</th>\n",
              "    </tr>\n",
              "  </thead>\n",
              "  <tbody>\n",
              "    <tr>\n",
              "      <th>4</th>\n",
              "      <td>22</td>\n",
              "      <td>-2.292566</td>\n",
              "    </tr>\n",
              "    <tr>\n",
              "      <th>27</th>\n",
              "      <td>238</td>\n",
              "      <td>-2.267831</td>\n",
              "    </tr>\n",
              "    <tr>\n",
              "      <th>86</th>\n",
              "      <td>4327</td>\n",
              "      <td>-2.247246</td>\n",
              "    </tr>\n",
              "    <tr>\n",
              "      <th>37</th>\n",
              "      <td>414</td>\n",
              "      <td>-1.959942</td>\n",
              "    </tr>\n",
              "    <tr>\n",
              "      <th>59</th>\n",
              "      <td>680</td>\n",
              "      <td>-1.833900</td>\n",
              "    </tr>\n",
              "    <tr>\n",
              "      <th>...</th>\n",
              "      <td>...</td>\n",
              "      <td>...</td>\n",
              "    </tr>\n",
              "    <tr>\n",
              "      <th>1</th>\n",
              "      <td>12</td>\n",
              "      <td>1.274993</td>\n",
              "    </tr>\n",
              "    <tr>\n",
              "      <th>61</th>\n",
              "      <td>752</td>\n",
              "      <td>1.460253</td>\n",
              "    </tr>\n",
              "    <tr>\n",
              "      <th>35</th>\n",
              "      <td>329</td>\n",
              "      <td>1.466918</td>\n",
              "    </tr>\n",
              "    <tr>\n",
              "      <th>90</th>\n",
              "      <td>8467</td>\n",
              "      <td>1.616338</td>\n",
              "    </tr>\n",
              "    <tr>\n",
              "      <th>51</th>\n",
              "      <td>604</td>\n",
              "      <td>2.120907</td>\n",
              "    </tr>\n",
              "  </tbody>\n",
              "</table>\n",
              "<p>100 rows × 2 columns</p>\n",
              "</div>"
            ],
            "text/plain": [
              "    Movie ID  Factor15\n",
              "4         22 -2.292566\n",
              "27       238 -2.267831\n",
              "86      4327 -2.247246\n",
              "37       414 -1.959942\n",
              "59       680 -1.833900\n",
              "..       ...       ...\n",
              "1         12  1.274993\n",
              "61       752  1.460253\n",
              "35       329  1.466918\n",
              "90      8467  1.616338\n",
              "51       604  2.120907\n",
              "\n",
              "[100 rows x 2 columns]"
            ]
          },
          "metadata": {
            "tags": []
          },
          "execution_count": 19
        }
      ]
    }
  ]
}