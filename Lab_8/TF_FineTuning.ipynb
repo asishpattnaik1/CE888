{
  "nbformat": 4,
  "nbformat_minor": 0,
  "metadata": {
    "colab": {
      "name": "TF_FineTuning.ipynb",
      "provenance": [],
      "authorship_tag": "ABX9TyM4iwv2qjVZ5ybUWcSZfz79",
      "include_colab_link": true
    },
    "kernelspec": {
      "name": "python3",
      "display_name": "Python 3"
    },
    "language_info": {
      "name": "python"
    }
  },
  "cells": [
    {
      "cell_type": "markdown",
      "metadata": {
        "id": "view-in-github",
        "colab_type": "text"
      },
      "source": [
        "<a href=\"https://colab.research.google.com/github/asishpattnaik1/CE888/blob/main/Lab_8/TF_FineTuning.ipynb\" target=\"_parent\"><img src=\"https://colab.research.google.com/assets/colab-badge.svg\" alt=\"Open In Colab\"/></a>"
      ]
    },
    {
      "cell_type": "code",
      "metadata": {
        "id": "WkMxq6UuOWmD"
      },
      "source": [
        "!wget https://raw.githubusercontent.com/sagihaider/CE888_2021/main/Lab_8/data.zip\n",
        "!unzip data.zip"
      ],
      "execution_count": null,
      "outputs": []
    },
    {
      "cell_type": "code",
      "metadata": {
        "id": "ZnGr_THROgql"
      },
      "source": [
        "import os\n",
        "import numpy as np\n",
        "import pandas as pd\n",
        "from tensorflow.keras.preprocessing.image import ImageDataGenerator\n",
        "import matplotlib.pyplot as plt\n",
        "from tensorflow.keras.callbacks import EarlyStopping, ModelCheckpoint"
      ],
      "execution_count": null,
      "outputs": []
    },
    {
      "cell_type": "code",
      "metadata": {
        "id": "YMr8G8UrOlLC"
      },
      "source": [
        "image_generator = ImageDataGenerator(rescale=1.0/255, \n",
        "                               rotation_range=20,\n",
        "                               horizontal_flip=True, \n",
        "                               validation_split=0.1)"
      ],
      "execution_count": null,
      "outputs": []
    },
    {
      "cell_type": "code",
      "metadata": {
        "id": "eAVr9OHUOnHb"
      },
      "source": [
        "train_data = image_generator.flow_from_directory('./data/', target_size=(304,329),\n",
        "                                      batch_size=4,subset='training')\n",
        "\n",
        "val_data = image_generator.flow_from_directory('./data/', target_size=(304,329),\n",
        "                                      batch_size=4,subset='validation')"
      ],
      "execution_count": null,
      "outputs": []
    },
    {
      "cell_type": "code",
      "metadata": {
        "id": "uSd0FEZXOpdg"
      },
      "source": [
        "from tensorflow.keras.applications import Xception\n",
        "from tensorflow.keras.layers import Dense, Input, Flatten\n",
        "from tensorflow.keras import Model\n",
        "\n",
        "image_size = [304,329,3]"
      ],
      "execution_count": null,
      "outputs": []
    },
    {
      "cell_type": "code",
      "metadata": {
        "id": "bgPuheVvOsE8"
      },
      "source": [
        "input = Input(shape = image_size)\n",
        "model = Xception(input_tensor=input,)"
      ],
      "execution_count": null,
      "outputs": []
    },
    {
      "cell_type": "code",
      "metadata": {
        "id": "6OaqFU6-OujQ"
      },
      "source": [
        "model.summary()"
      ],
      "execution_count": null,
      "outputs": []
    },
    {
      "cell_type": "code",
      "metadata": {
        "id": "D0PtrNJjOw8j"
      },
      "source": [
        "last_layer = model.get_layer('block14_sepconv2_act').output\n",
        "x= Flatten(name='flatten')(last_layer)\n",
        "x = Dense(128, activation='relu', name='fc1')(x)\n",
        "x = Dense(64, activation='relu', name='fc2')(x)\n",
        "out = Dense(4, activation='softmax', name='output')(x)\n",
        "model = Model(input, out)\n",
        "\n",
        "for layer in model.layers[:-3]:\n",
        "\tlayer.trainable = False\n",
        "\n",
        "model.summary()"
      ],
      "execution_count": null,
      "outputs": []
    },
    {
      "cell_type": "code",
      "metadata": {
        "id": "zfU7VSauO02J"
      },
      "source": [
        "model.compile(optimizer='adam', loss='categorical_crossentropy', metrics=\"accuracy\")\n",
        "my_callbacks = [\n",
        "    EarlyStopping(monitor=\"val_accuracy\", patience=10, restore_best_weights=True),\n",
        "    ModelCheckpoint(filepath='xception_model.h5', save_best_only=True),\n",
        "]\n",
        "\n",
        "model.fit(train_data, validation_data=val_data, epochs=50, callbacks=my_callbacks)"
      ],
      "execution_count": null,
      "outputs": []
    },
    {
      "cell_type": "code",
      "metadata": {
        "id": "rxadeHwMO6VV"
      },
      "source": [
        "\n",
        "history = pd.DataFrame(model.history.history)\n",
        "history.head()"
      ],
      "execution_count": null,
      "outputs": []
    },
    {
      "cell_type": "code",
      "metadata": {
        "id": "QVh6rI2TO7R9"
      },
      "source": [
        "\n",
        "history[['loss', 'val_loss']].plot()\n",
        "history[['accuracy','val_accuracy']].plot()"
      ],
      "execution_count": null,
      "outputs": []
    },
    {
      "cell_type": "code",
      "metadata": {
        "id": "ynWiC1pQO9ji"
      },
      "source": [
        ""
      ],
      "execution_count": null,
      "outputs": []
    }
  ]
}