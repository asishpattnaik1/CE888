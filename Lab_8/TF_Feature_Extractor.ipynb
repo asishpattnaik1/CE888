{
  "nbformat": 4,
  "nbformat_minor": 0,
  "metadata": {
    "colab": {
      "name": "TF_Feature_Extractor.ipynb",
      "provenance": [],
      "authorship_tag": "ABX9TyOjAGpN64N7RN9hcuRuivg0",
      "include_colab_link": true
    },
    "kernelspec": {
      "name": "python3",
      "display_name": "Python 3"
    },
    "language_info": {
      "name": "python"
    },
    "accelerator": "GPU"
  },
  "cells": [
    {
      "cell_type": "markdown",
      "metadata": {
        "id": "view-in-github",
        "colab_type": "text"
      },
      "source": [
        "<a href=\"https://colab.research.google.com/github/asishpattnaik1/CE888/blob/main/Lab_8/TF_Feature_Extractor.ipynb\" target=\"_parent\"><img src=\"https://colab.research.google.com/assets/colab-badge.svg\" alt=\"Open In Colab\"/></a>"
      ]
    },
    {
      "cell_type": "code",
      "metadata": {
        "id": "3IKLZLXUNGRk"
      },
      "source": [
        "!wget https://raw.githubusercontent.com/sagihaider/CE888_2021/main/Lab_8/data.zip"
      ],
      "execution_count": null,
      "outputs": []
    },
    {
      "cell_type": "code",
      "metadata": {
        "id": "yeTB3itANkV0"
      },
      "source": [
        "!unzip data.zip"
      ],
      "execution_count": null,
      "outputs": []
    },
    {
      "cell_type": "code",
      "metadata": {
        "id": "0y3C6dJrNk4R"
      },
      "source": [
        "import os\n",
        "import numpy as np\n",
        "from tensorflow.keras.preprocessing.image import ImageDataGenerator\n",
        "import matplotlib.pyplot as plt\n",
        "from tensorflow.keras.callbacks import EarlyStopping, ModelCheckpoint"
      ],
      "execution_count": null,
      "outputs": []
    },
    {
      "cell_type": "code",
      "metadata": {
        "id": "g7yfSvy4NpLP"
      },
      "source": [
        "print(len(os.listdir('./data/Humans/')))\n",
        "print(len(os.listdir('./data/cats/')))\n",
        "print(len(os.listdir('./data/dogs/')))\n",
        "print(len(os.listdir('./data/horses/')))"
      ],
      "execution_count": null,
      "outputs": []
    },
    {
      "cell_type": "code",
      "metadata": {
        "id": "5RMrGRnINrNR"
      },
      "source": [
        "ath_humans = './data/Humans'\n",
        "path_cats = './data/cats'\n",
        "path_dogs = './data/dogs/'\n",
        "path_horses = './data/horses/'\n",
        "\n",
        "humans = os.listdir(path_humans)\n",
        "cats = os.listdir(path_cats)\n",
        "dogs = os.listdir(path_dogs)\n",
        "horses = os.listdir(path_horses)\n",
        "\n",
        "human_image_sizes = []\n",
        "cats_image_sizes = []\n",
        "dogs_image_sizes = []\n",
        "horses_image_sizes = []\n",
        "\n",
        "for i in range(202):\n",
        "  hu = plt.imread(os.path.join(path_humans, humans[i]))\n",
        "  c = plt.imread(os.path.join(path_cats, cats[i]))\n",
        "  d = plt.imread(os.path.join(path_dogs, dogs[i]))\n",
        "  ho = plt.imread(os.path.join(path_horses, horses[i]))\n",
        "  human_image_sizes.append(hu.shape[:-1])\n",
        "  cats_image_sizes.append(c.shape[:-1])\n",
        "  dogs_image_sizes.append(d.shape[:-1])\n",
        "  horses_image_sizes.append(ho.shape[:-1])"
      ],
      "execution_count": null,
      "outputs": []
    },
    {
      "cell_type": "code",
      "metadata": {
        "id": "aReYPtwlNt-Z"
      },
      "source": [
        "mean_sizes = [np.mean(human_image_sizes, axis=0), np.mean(cats_image_sizes, axis=0),\n",
        "              np.mean(dogs_image_sizes, axis=0), np.mean(horses_image_sizes, axis=0)]\n",
        "\n",
        "target_size = np.array(mean_sizes).mean(axis=0)\n",
        "target_size"
      ],
      "execution_count": null,
      "outputs": []
    },
    {
      "cell_type": "code",
      "metadata": {
        "id": "B5KlJglDNwYk"
      },
      "source": [
        "image_generator = ImageDataGenerator(rescale=1.0/255, \n",
        "                               rotation_range=20,\n",
        "                               horizontal_flip=True, \n",
        "                               validation_split=0.1)"
      ],
      "execution_count": null,
      "outputs": []
    },
    {
      "cell_type": "code",
      "metadata": {
        "id": "Ou4f9NgoNyeA"
      },
      "source": [
        "train_data = image_generator.flow_from_directory('./data/', target_size=(304,329),\n",
        "                                      batch_size=4,subset='training')\n",
        "\n",
        "val_data = image_generator.flow_from_directory('./data/', target_size=(304,329),\n",
        "                                      batch_size=4,subset='validation')"
      ],
      "execution_count": null,
      "outputs": []
    },
    {
      "cell_type": "code",
      "metadata": {
        "id": "18ZFXGo9N0uk"
      },
      "source": [
        "from tensorflow.keras.applications import ResNet50\n",
        "from tensorflow.keras.layers import Dense, Input, Flatten\n",
        "from tensorflow.keras import Model\n",
        "\n",
        "image_size = [304,329,3]"
      ],
      "execution_count": null,
      "outputs": []
    },
    {
      "cell_type": "code",
      "metadata": {
        "id": "x7RvdLBlN3Uq"
      },
      "source": [
        "input = Input(shape = image_size)\n",
        "model = ResNet50(input_tensor=input,)"
      ],
      "execution_count": null,
      "outputs": []
    },
    {
      "cell_type": "code",
      "metadata": {
        "id": "_gOjMtTlN5VX"
      },
      "source": [
        "odel.summary()"
      ],
      "execution_count": null,
      "outputs": []
    },
    {
      "cell_type": "code",
      "metadata": {
        "id": "EVnW2mwWN77Q"
      },
      "source": [
        "last_layer = model.get_layer('avg_pool').output\n",
        "out = Dense(4, activation='softmax', name='output')(last_layer)\n",
        "model = Model(input, out)\n",
        "\n",
        "for layer in model.layers[:-1]:\n",
        "  layer.trainable = False\n",
        "\n",
        "\n",
        "model.summary()"
      ],
      "execution_count": null,
      "outputs": []
    },
    {
      "cell_type": "code",
      "metadata": {
        "id": "_I1wtB4tN_2h"
      },
      "source": [
        "\n",
        "model.compile(optimizer='adam', loss='categorical_crossentropy', metrics=\"accuracy\")"
      ],
      "execution_count": null,
      "outputs": []
    },
    {
      "cell_type": "code",
      "metadata": {
        "id": "XtqryhtsODgg"
      },
      "source": [
        "my_callbacks = [\n",
        "    EarlyStopping(monitor=\"val_accuracy\", patience=10, restore_best_weights=True),\n",
        "    ModelCheckpoint(filepath='vgg16_model.h5', save_best_only=True),\n",
        "]"
      ],
      "execution_count": null,
      "outputs": []
    },
    {
      "cell_type": "code",
      "metadata": {
        "id": "XNFweZ6UOGyB"
      },
      "source": [
        "model.fit(train_data, validation_data=val_data, epochs=50, callbacks=my_callbacks)"
      ],
      "execution_count": null,
      "outputs": []
    },
    {
      "cell_type": "code",
      "metadata": {
        "id": "G6peZUW0OLJj"
      },
      "source": [
        "model.history.history"
      ],
      "execution_count": null,
      "outputs": []
    },
    {
      "cell_type": "code",
      "metadata": {
        "id": "DSeY3CqUOL65"
      },
      "source": [
        ""
      ],
      "execution_count": null,
      "outputs": []
    }
  ]
}