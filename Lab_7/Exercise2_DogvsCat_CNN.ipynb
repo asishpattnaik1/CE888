{
  "nbformat": 4,
  "nbformat_minor": 0,
  "metadata": {
    "colab": {
      "name": "Exercise2_DogvsCat_CNN.ipynb",
      "provenance": [],
      "include_colab_link": true
    },
    "kernelspec": {
      "name": "python3",
      "display_name": "Python 3"
    },
    "accelerator": "GPU"
  },
  "cells": [
    {
      "cell_type": "markdown",
      "metadata": {
        "id": "view-in-github",
        "colab_type": "text"
      },
      "source": [
        "<a href=\"https://colab.research.google.com/github/asishpattnaik1/CE888/blob/main/Lab_7/Exercise2_DogvsCat_CNN.ipynb\" target=\"_parent\"><img src=\"https://colab.research.google.com/assets/colab-badge.svg\" alt=\"Open In Colab\"/></a>"
      ]
    },
    {
      "cell_type": "markdown",
      "metadata": {
        "id": "qTh9DiKVslsJ"
      },
      "source": [
        "## Dogs vs. Cats \n",
        "\n",
        "In this competition, you'll write an algorithm to classify whether images contain either a dog or a cat.  This is easy for humans, dogs, and cats. Your computer will find it a bit more difficult.\n",
        "\n",
        "![alt text](https://miro.medium.com/max/3000/1*bhFifratH9DjKqMBTeQG5A.gif)\n",
        "\n",
        "Ref: https://medium.com/@thegrigorian/rolling-in-the-deep-cnn-c8d3f7108c8c"
      ]
    },
    {
      "cell_type": "markdown",
      "metadata": {
        "id": "RSBI-_mSSY1g"
      },
      "source": [
        "Get your API Key from Kaggle using following steps:\n",
        "1. Login to [Kaggle](https://www.kaggle.com/) or Register if you don't have account\n",
        "2. Open Dataset (https://www.kaggle.com/c/dogs-vs-cats/rules) and accept terms and condition. \n",
        "3. On the top right corner click on your Icon and go to accounts and press a button \"Create New API Token\". It will download a JSON file containing your username and key. \n",
        "4. Now, paste both below. \n"
      ]
    },
    {
      "cell_type": "code",
      "metadata": {
        "id": "YmXSOc0tZIGA",
        "colab": {
          "base_uri": "https://localhost:8080/"
        },
        "outputId": "17e7d40d-284c-4024-9c69-b9fe1bb9e468"
      },
      "source": [
        "import os\n",
        "os.environ['KAGGLE_USERNAME'] = \"pattnaikasishkumar\" # username from the json file\n",
        "os.environ['KAGGLE_KEY'] = \"f1c45d811fb00e5c4e137bfc99ce403e\" # key from the json file\n",
        "!kaggle competitions download -c dogs-vs-cats # api copied from kaggle (https://www.kaggle.com/c/dogs-vs-cats/data)"
      ],
      "execution_count": 15,
      "outputs": [
        {
          "output_type": "stream",
          "text": [
            "Warning: Looks like you're using an outdated API Version, please consider updating (server 1.5.12 / client 1.5.4)\n",
            "Downloading train.zip to /content\n",
            " 99% 538M/543M [00:02<00:00, 256MB/s]\n",
            "100% 543M/543M [00:02<00:00, 238MB/s]\n",
            "Downloading test1.zip to /content\n",
            " 99% 269M/271M [00:01<00:00, 168MB/s]\n",
            "100% 271M/271M [00:01<00:00, 147MB/s]\n",
            "Downloading sampleSubmission.csv to /content\n",
            "  0% 0.00/86.8k [00:00<?, ?B/s]\n",
            "100% 86.8k/86.8k [00:00<00:00, 90.2MB/s]\n"
          ],
          "name": "stdout"
        }
      ]
    },
    {
      "cell_type": "code",
      "metadata": {
        "id": "PiwIL8d1n7eS",
        "colab": {
          "base_uri": "https://localhost:8080/"
        },
        "outputId": "26ed8080-2f3d-4813-efc1-4e581a2ce730"
      },
      "source": [
        "# Unzip training data\n",
        "from zipfile import ZipFile\n",
        "file_name = \"/content/train.zip\"\n",
        "with ZipFile(file_name, 'r') as zip:\n",
        "  zip.extractall()\n",
        "  print('done')"
      ],
      "execution_count": 16,
      "outputs": [
        {
          "output_type": "stream",
          "text": [
            "done\n"
          ],
          "name": "stdout"
        }
      ]
    },
    {
      "cell_type": "code",
      "metadata": {
        "id": "sa2Bj5i7pPKV",
        "colab": {
          "base_uri": "https://localhost:8080/"
        },
        "outputId": "983885ed-1339-4514-d0cc-0eac10bcfec1"
      },
      "source": [
        "# Get all the paths\n",
        "data_dir_list = os.listdir('/content/train')\n",
        "#print(data_dir_list)\n",
        "path, dirs, files = next(os.walk(\"/content/train\"))\n",
        "file_count = len(files)\n",
        "print(file_count)"
      ],
      "execution_count": 17,
      "outputs": [
        {
          "output_type": "stream",
          "text": [
            "25000\n"
          ],
          "name": "stdout"
        }
      ]
    },
    {
      "cell_type": "code",
      "metadata": {
        "id": "0ERlHkfHqpK8"
      },
      "source": [
        "# Make new base directory\n",
        "original_dataset_dir = '/content/train'\n",
        "base_dir = '/content/cats_and_dogs_small'\n",
        "os.mkdir(base_dir)"
      ],
      "execution_count": 18,
      "outputs": []
    },
    {
      "cell_type": "code",
      "metadata": {
        "id": "AANB1UJ6rQhM"
      },
      "source": [
        "train_dir = os.path.join(base_dir, 'train')\n",
        "os.mkdir(train_dir)\n",
        "\n",
        "validation_dir = os.path.join(base_dir, 'validation')\n",
        "os.mkdir(validation_dir)\n",
        "\n",
        "test_dir = os.path.join(base_dir, 'test')\n",
        "os.mkdir(test_dir)\n",
        "\n",
        "train_cats_dir = os.path.join(train_dir, 'cats')\n",
        "os.mkdir(train_cats_dir)\n",
        "\n",
        "train_dogs_dir = os.path.join(train_dir, 'dogs')\n",
        "os.mkdir(train_dogs_dir)\n",
        "\n",
        "validation_cats_dir = os.path.join(validation_dir, 'cats')\n",
        "os.mkdir(validation_cats_dir)\n",
        "\n",
        "validation_dogs_dir = os.path.join(validation_dir, 'dogs')\n",
        "os.mkdir(validation_dogs_dir)\n",
        "\n",
        "test_cats_dir = os.path.join(test_dir, 'cats')\n",
        "os.mkdir(test_cats_dir)\n",
        "\n",
        "test_dogs_dir = os.path.join(test_dir, 'dogs')\n",
        "os.mkdir(test_dogs_dir)"
      ],
      "execution_count": 19,
      "outputs": []
    },
    {
      "cell_type": "code",
      "metadata": {
        "id": "ULRgL9s9rV8T"
      },
      "source": [
        "import shutil\n",
        "fnames = ['cat.{}.jpg'.format(i) for i in range(1000)]\n",
        "for fname in fnames:\n",
        "    src = os.path.join(original_dataset_dir, fname)\n",
        "    dst = os.path.join(train_cats_dir, fname)\n",
        "    #print(src,dst)\n",
        "    shutil.copyfile(src, dst)\n",
        "    \n",
        "fnames = ['cat.{}.jpg'.format(i) for i in range(1000, 1500)]\n",
        "for fname in fnames:\n",
        "    src = os.path.join(original_dataset_dir, fname)\n",
        "    dst = os.path.join(validation_cats_dir, fname)\n",
        "    shutil.copyfile(src, dst)\n",
        "\n",
        "fnames = ['cat.{}.jpg'.format(i) for i in range(1500, 2000)]\n",
        "for fname in fnames:\n",
        "    src = os.path.join(original_dataset_dir, fname)\n",
        "    dst = os.path.join(test_cats_dir, fname)\n",
        "    shutil.copyfile(src, dst)\n",
        "    \n",
        "fnames = ['dog.{}.jpg'.format(i) for i in range(1000)]\n",
        "for fname in fnames:\n",
        "    src = os.path.join(original_dataset_dir, fname)\n",
        "    dst = os.path.join(train_dogs_dir, fname)\n",
        "    shutil.copyfile(src, dst)\n",
        "\n",
        "fnames = ['dog.{}.jpg'.format(i) for i in range(1000, 1500)]\n",
        "for fname in fnames:\n",
        "    src = os.path.join(original_dataset_dir, fname)\n",
        "    dst = os.path.join(validation_dogs_dir, fname)\n",
        "    shutil.copyfile(src, dst)\n",
        "\n",
        "fnames = ['dog.{}.jpg'.format(i) for i in range(1500, 2000)]\n",
        "for fname in fnames:\n",
        "    src = os.path.join(original_dataset_dir, fname)\n",
        "    dst = os.path.join(test_dogs_dir, fname)\n",
        "    shutil.copyfile(src, dst)"
      ],
      "execution_count": 20,
      "outputs": []
    },
    {
      "cell_type": "code",
      "metadata": {
        "id": "ul3XAbIyr7vC",
        "colab": {
          "base_uri": "https://localhost:8080/"
        },
        "outputId": "2e18c61a-aca0-4e1a-f85d-924da40b4d02"
      },
      "source": [
        "print('total training cat images:', len(os.listdir(train_cats_dir)))\n",
        "print('total training dog images:', len(os.listdir(train_dogs_dir)))\n",
        "print('total validation cat images:', len(os.listdir(validation_cats_dir)))\n",
        "\n",
        "print('total validation dog images:', len(os.listdir(validation_dogs_dir)))\n",
        "print('total test cat images:', len(os.listdir(test_cats_dir)))\n",
        "print('total test dog images:', len(os.listdir(test_dogs_dir)))"
      ],
      "execution_count": 21,
      "outputs": [
        {
          "output_type": "stream",
          "text": [
            "total training cat images: 1000\n",
            "total training dog images: 1000\n",
            "total validation cat images: 500\n",
            "total validation dog images: 500\n",
            "total test cat images: 500\n",
            "total test dog images: 500\n"
          ],
          "name": "stdout"
        }
      ]
    },
    {
      "cell_type": "code",
      "metadata": {
        "id": "o9yTA21_r-ma",
        "colab": {
          "base_uri": "https://localhost:8080/"
        },
        "outputId": "061f6d34-b986-4018-cec4-aa7609237be3"
      },
      "source": [
        "from keras import layers\n",
        "from keras import models\n",
        "\n",
        "model = models.Sequential()\n",
        "model.add(layers.Conv2D(32, (3, 3), activation='relu', input_shape=(150, 150, 3)))\n",
        "model.add(layers.MaxPooling2D((2, 2)))\n",
        "model.add(layers.Conv2D(64, (3, 3), activation='relu'))\n",
        "model.add(layers.MaxPooling2D((2, 2)))\n",
        "model.add(layers.Conv2D(128, (3, 3), activation='relu'))\n",
        "model.add(layers.MaxPooling2D((2, 2)))\n",
        "model.add(layers.Conv2D(128, (3, 3), activation='relu'))\n",
        "model.add(layers.MaxPooling2D((2, 2)))\n",
        "model.add(layers.Flatten())\n",
        "model.add(layers.Dense(512, activation='relu'))\n",
        "model.add(layers.Dense(1, activation='sigmoid'))\n",
        "model.summary()"
      ],
      "execution_count": 22,
      "outputs": [
        {
          "output_type": "stream",
          "text": [
            "Model: \"sequential\"\n",
            "_________________________________________________________________\n",
            "Layer (type)                 Output Shape              Param #   \n",
            "=================================================================\n",
            "conv2d (Conv2D)              (None, 148, 148, 32)      896       \n",
            "_________________________________________________________________\n",
            "max_pooling2d (MaxPooling2D) (None, 74, 74, 32)        0         \n",
            "_________________________________________________________________\n",
            "conv2d_1 (Conv2D)            (None, 72, 72, 64)        18496     \n",
            "_________________________________________________________________\n",
            "max_pooling2d_1 (MaxPooling2 (None, 36, 36, 64)        0         \n",
            "_________________________________________________________________\n",
            "conv2d_2 (Conv2D)            (None, 34, 34, 128)       73856     \n",
            "_________________________________________________________________\n",
            "max_pooling2d_2 (MaxPooling2 (None, 17, 17, 128)       0         \n",
            "_________________________________________________________________\n",
            "conv2d_3 (Conv2D)            (None, 15, 15, 128)       147584    \n",
            "_________________________________________________________________\n",
            "max_pooling2d_3 (MaxPooling2 (None, 7, 7, 128)         0         \n",
            "_________________________________________________________________\n",
            "flatten (Flatten)            (None, 6272)              0         \n",
            "_________________________________________________________________\n",
            "dense (Dense)                (None, 512)               3211776   \n",
            "_________________________________________________________________\n",
            "dense_1 (Dense)              (None, 1)                 513       \n",
            "=================================================================\n",
            "Total params: 3,453,121\n",
            "Trainable params: 3,453,121\n",
            "Non-trainable params: 0\n",
            "_________________________________________________________________\n"
          ],
          "name": "stdout"
        }
      ]
    },
    {
      "cell_type": "code",
      "metadata": {
        "id": "2mG8wekxsBVS"
      },
      "source": [
        "from keras import optimizers\n",
        "model.compile(loss='binary_crossentropy', \n",
        "              optimizer=optimizers.RMSprop(lr=1e-4),\n",
        "              metrics=['acc'])"
      ],
      "execution_count": 23,
      "outputs": []
    },
    {
      "cell_type": "markdown",
      "metadata": {
        "id": "7zS4Klm8qWp6"
      },
      "source": [
        "## Using ImageDataGenerator to read images from directories\n",
        "As you know by now, data should be formatted into appropriately preprocessed floatingpoint tensors before being fed into the network. Currently, the data sits on a drive as JPEG files, so the steps for getting it into the network are roughly as follows:\n",
        "\n",
        "* Read the picture files.\n",
        "* Decode the JPEG content to RGB grids of pixels.\n",
        "* Convert these into floating-point tensors.\n",
        "* Rescale the pixel values (between 0 and 255) to the [0, 1] interval (as you know, neural networks prefer to deal with small input values).\n",
        "\n",
        "It may seem a bit daunting, but fortunately Keras has utilities to take care of these steps automatically. Keras has a module with image-processing helper tools, located at keras.preprocessing.image. In particular, it contains the class ImageDataGenerator,which lets you quickly set up Python generators that can automatically turn image files on disk into batches of preprocessed tensors."
      ]
    },
    {
      "cell_type": "code",
      "metadata": {
        "id": "XJ7XU7t9sEh6",
        "colab": {
          "base_uri": "https://localhost:8080/"
        },
        "outputId": "d380da89-a928-47b0-e429-8c5e9e298653"
      },
      "source": [
        "from keras.preprocessing.image import ImageDataGenerator\n",
        "\n",
        "train_datagen = ImageDataGenerator(rescale=1./255)\n",
        "test_datagen = ImageDataGenerator(rescale=1./255)\n",
        "\n",
        "train_generator = train_datagen.flow_from_directory(train_dir,\n",
        "                                                    target_size=(150, 150), \n",
        "                                                    batch_size=20,\n",
        "                                                    class_mode='binary')\n",
        "\n",
        "validation_generator = test_datagen.flow_from_directory(validation_dir,\n",
        "                                                        target_size=(150, 150),\n",
        "                                                        batch_size=20,\n",
        "                                                        class_mode='binary')"
      ],
      "execution_count": 24,
      "outputs": [
        {
          "output_type": "stream",
          "text": [
            "Found 2000 images belonging to 2 classes.\n",
            "Found 1000 images belonging to 2 classes.\n"
          ],
          "name": "stdout"
        }
      ]
    },
    {
      "cell_type": "markdown",
      "metadata": {
        "id": "SEgLywySqm4u"
      },
      "source": [
        "Let’s fit the model to the data using the generator. You do so using the fit_generator method, the equivalent of fit for data generators like this one. It expects as its first argument a Python generator that will yield batches of inputs and targets indefinitely,like this one does. Because the data is being generated endlessly, the Keras model needs to know how many samples to draw from the generator before declaring anepoch over. This is the role of the `steps_per_epoch` argument: after having drawn `steps_per_epoch` batches from the generator—that is, after having run for `steps_per_epoch` gradient descent steps—the fitting process will go to the next epoch. In this case, batches are 20 samples, so it will take 100 batches until you see your target of 2,000 samples.\n",
        "\n",
        "When using fit_generator, you can pass a validation_data argument, much as with the fit method. It’s important to note that this argument is allowed to be a data generator, but it could also be a tuple of Numpy arrays. If you pass a generator as validation_data, then this generator is expected to yield batches of validation data endlessly; thus you should also specify the validation_steps argument, which tells the process how many batches to draw from the validation generator for evaluation."
      ]
    },
    {
      "cell_type": "code",
      "metadata": {
        "id": "yMyfPphJsJG6",
        "colab": {
          "base_uri": "https://localhost:8080/"
        },
        "outputId": "51c6747c-9b9e-429f-fc0a-7b16dadf1de1"
      },
      "source": [
        "history = model.fit_generator(train_generator,\n",
        "                              steps_per_epoch=100,\n",
        "                              epochs=30,\n",
        "                              validation_data=validation_generator,\n",
        "                              validation_steps=10)"
      ],
      "execution_count": 25,
      "outputs": [
        {
          "output_type": "stream",
          "text": [
            "/usr/local/lib/python3.7/dist-packages/tensorflow/python/keras/engine/training.py:1844: UserWarning: `Model.fit_generator` is deprecated and will be removed in a future version. Please use `Model.fit`, which supports generators.\n",
            "  warnings.warn('`Model.fit_generator` is deprecated and '\n"
          ],
          "name": "stderr"
        },
        {
          "output_type": "stream",
          "text": [
            "Epoch 1/30\n",
            "100/100 [==============================] - 40s 69ms/step - loss: 0.6938 - acc: 0.5126 - val_loss: 0.6627 - val_acc: 0.5550\n",
            "Epoch 2/30\n",
            "100/100 [==============================] - 7s 68ms/step - loss: 0.6663 - acc: 0.5911 - val_loss: 0.6486 - val_acc: 0.6000\n",
            "Epoch 3/30\n",
            "100/100 [==============================] - 7s 67ms/step - loss: 0.6315 - acc: 0.6414 - val_loss: 0.6523 - val_acc: 0.6200\n",
            "Epoch 4/30\n",
            "100/100 [==============================] - 7s 68ms/step - loss: 0.5853 - acc: 0.6750 - val_loss: 0.5877 - val_acc: 0.6350\n",
            "Epoch 5/30\n",
            "100/100 [==============================] - 7s 67ms/step - loss: 0.5357 - acc: 0.7261 - val_loss: 0.6446 - val_acc: 0.6450\n",
            "Epoch 6/30\n",
            "100/100 [==============================] - 7s 66ms/step - loss: 0.5054 - acc: 0.7565 - val_loss: 0.5917 - val_acc: 0.7050\n",
            "Epoch 7/30\n",
            "100/100 [==============================] - 7s 67ms/step - loss: 0.4886 - acc: 0.7755 - val_loss: 0.6180 - val_acc: 0.6600\n",
            "Epoch 8/30\n",
            "100/100 [==============================] - 7s 66ms/step - loss: 0.4454 - acc: 0.7876 - val_loss: 0.5605 - val_acc: 0.6850\n",
            "Epoch 9/30\n",
            "100/100 [==============================] - 7s 66ms/step - loss: 0.4080 - acc: 0.8146 - val_loss: 0.5518 - val_acc: 0.6850\n",
            "Epoch 10/30\n",
            "100/100 [==============================] - 7s 69ms/step - loss: 0.3790 - acc: 0.8456 - val_loss: 0.5466 - val_acc: 0.7450\n",
            "Epoch 11/30\n",
            "100/100 [==============================] - 7s 68ms/step - loss: 0.3695 - acc: 0.8505 - val_loss: 0.5629 - val_acc: 0.7400\n",
            "Epoch 12/30\n",
            "100/100 [==============================] - 7s 67ms/step - loss: 0.3556 - acc: 0.8514 - val_loss: 0.5397 - val_acc: 0.7250\n",
            "Epoch 13/30\n",
            "100/100 [==============================] - 7s 68ms/step - loss: 0.3067 - acc: 0.8758 - val_loss: 0.5070 - val_acc: 0.7450\n",
            "Epoch 14/30\n",
            "100/100 [==============================] - 7s 71ms/step - loss: 0.3063 - acc: 0.8775 - val_loss: 0.5861 - val_acc: 0.7050\n",
            "Epoch 15/30\n",
            "100/100 [==============================] - 7s 70ms/step - loss: 0.2775 - acc: 0.8943 - val_loss: 0.6230 - val_acc: 0.7350\n",
            "Epoch 16/30\n",
            "100/100 [==============================] - 7s 69ms/step - loss: 0.2615 - acc: 0.9011 - val_loss: 0.7152 - val_acc: 0.6950\n",
            "Epoch 17/30\n",
            "100/100 [==============================] - 7s 71ms/step - loss: 0.2474 - acc: 0.9033 - val_loss: 0.6680 - val_acc: 0.6900\n",
            "Epoch 18/30\n",
            "100/100 [==============================] - 7s 70ms/step - loss: 0.2119 - acc: 0.9252 - val_loss: 0.7949 - val_acc: 0.7000\n",
            "Epoch 19/30\n",
            "100/100 [==============================] - 7s 70ms/step - loss: 0.1967 - acc: 0.9319 - val_loss: 0.5037 - val_acc: 0.7850\n",
            "Epoch 20/30\n",
            "100/100 [==============================] - 7s 70ms/step - loss: 0.1779 - acc: 0.9289 - val_loss: 0.5624 - val_acc: 0.7950\n",
            "Epoch 21/30\n",
            "100/100 [==============================] - 7s 67ms/step - loss: 0.1604 - acc: 0.9404 - val_loss: 0.7209 - val_acc: 0.7050\n",
            "Epoch 22/30\n",
            "100/100 [==============================] - 7s 67ms/step - loss: 0.1454 - acc: 0.9532 - val_loss: 0.7162 - val_acc: 0.7750\n",
            "Epoch 23/30\n",
            "100/100 [==============================] - 7s 68ms/step - loss: 0.1321 - acc: 0.9575 - val_loss: 0.4982 - val_acc: 0.8000\n",
            "Epoch 24/30\n",
            "100/100 [==============================] - 7s 67ms/step - loss: 0.1084 - acc: 0.9667 - val_loss: 0.8402 - val_acc: 0.7400\n",
            "Epoch 25/30\n",
            "100/100 [==============================] - 7s 67ms/step - loss: 0.1069 - acc: 0.9608 - val_loss: 0.6863 - val_acc: 0.7500\n",
            "Epoch 26/30\n",
            "100/100 [==============================] - 7s 67ms/step - loss: 0.0748 - acc: 0.9779 - val_loss: 0.9755 - val_acc: 0.6550\n",
            "Epoch 27/30\n",
            "100/100 [==============================] - 7s 67ms/step - loss: 0.0678 - acc: 0.9855 - val_loss: 1.0353 - val_acc: 0.7300\n",
            "Epoch 28/30\n",
            "100/100 [==============================] - 7s 67ms/step - loss: 0.0556 - acc: 0.9845 - val_loss: 0.9764 - val_acc: 0.7100\n",
            "Epoch 29/30\n",
            "100/100 [==============================] - 7s 69ms/step - loss: 0.0519 - acc: 0.9903 - val_loss: 0.7950 - val_acc: 0.7100\n",
            "Epoch 30/30\n",
            "100/100 [==============================] - 7s 67ms/step - loss: 0.0440 - acc: 0.9916 - val_loss: 1.2233 - val_acc: 0.7050\n"
          ],
          "name": "stdout"
        }
      ]
    },
    {
      "cell_type": "code",
      "metadata": {
        "id": "MZaZ2HWZsNUi",
        "colab": {
          "base_uri": "https://localhost:8080/",
          "height": 545
        },
        "outputId": "2398ae42-8f71-47c4-9f8a-b293741c4100"
      },
      "source": [
        "model.save('cats_and_dogs_small_1.h5')\n",
        "\n",
        "import matplotlib.pyplot as plt\n",
        "\n",
        "acc = history.history['acc']\n",
        "val_acc = history.history['val_acc']\n",
        "loss = history.history['loss']\n",
        "val_loss = history.history['val_loss']\n",
        "\n",
        "epochs = range(1, len(acc) + 1)\n",
        "\n",
        "plt.plot(epochs, acc, 'bo', label='Training acc')\n",
        "plt.plot(epochs, val_acc, 'b', label='Validation acc')\n",
        "plt.title('Training and validation accuracy')\n",
        "plt.legend()\n",
        "\n",
        "plt.figure()\n",
        "\n",
        "plt.plot(epochs, loss, 'bo', label='Training loss')\n",
        "plt.plot(epochs, val_loss, 'b', label='Validation loss')\n",
        "plt.title('Training and validation loss')\n",
        "plt.legend()\n",
        "\n",
        "plt.show()"
      ],
      "execution_count": 26,
      "outputs": [
        {
          "output_type": "display_data",
          "data": {
            "image/png": "[encoded data removed]",
            "text/plain": [
              "<Figure size 432x288 with 1 Axes>"
            ]
          },
          "metadata": {
            "tags": [],
            "needs_background": "light"
          }
        },
        {
          "output_type": "display_data",
          "data": {
            "image/png": "[encoded data removed]",
            "text/plain": [
              "<Figure size 432x288 with 1 Axes>"
            ]
          },
          "metadata": {
            "tags": [],
            "needs_background": "light"
          }
        }
      ]
    },
    {
      "cell_type": "markdown",
      "metadata": {
        "id": "XKZmXmBcq_8-"
      },
      "source": [
        "## Convolutional Networks with Dropout\n",
        "\n",
        "![alt text](https://camo.githubusercontent.com/ee6fa1073247cd2c3d241300caf110d7a7541bc5/68747470733a2f2f63646e2d696d616765732d312e6d656469756d2e636f6d2f6d61782f3830302f312a4972644a355067684439596f4f7956415137334d4a772e676966)\n",
        "\n",
        "Ref: https://github.com/mneha4/Training-Neural-Nets---Guidelines"
      ]
    },
    {
      "cell_type": "code",
      "metadata": {
        "id": "wu3cqeYQrDeN"
      },
      "source": [
        "from keras import layers\n",
        "from keras import models\n",
        "from keras import optimizers\n",
        "model = models.Sequential()\n",
        "model.add(layers.Conv2D(32, (3, 3), activation='relu',\n",
        "input_shape=(150, 150, 3)))\n",
        "model.add(layers.MaxPooling2D((2, 2)))\n",
        "model.add(layers.Conv2D(64, (3, 3), activation='relu'))\n",
        "model.add(layers.MaxPooling2D((2, 2)))\n",
        "model.add(layers.Conv2D(128, (3, 3), activation='relu'))\n",
        "model.add(layers.MaxPooling2D((2, 2)))\n",
        "model.add(layers.Conv2D(128, (3, 3), activation='relu'))\n",
        "model.add(layers.MaxPooling2D((2, 2)))\n",
        "model.add(layers.Flatten())\n",
        "model.add(layers.Dropout(0.5))\n",
        "model.add(layers.Dense(512, activation='relu'))\n",
        "model.add(layers.Dense(1, activation='sigmoid'))\n",
        "\n",
        "model.compile(loss='binary_crossentropy',\n",
        "              optimizer=optimizers.RMSprop(lr=1e-4),\n",
        "              metrics=['acc'])"
      ],
      "execution_count": 27,
      "outputs": []
    },
    {
      "cell_type": "code",
      "metadata": {
        "id": "QSeLpvY0rH7F",
        "colab": {
          "base_uri": "https://localhost:8080/"
        },
        "outputId": "f0c492ad-675f-437c-b27f-352cc6844818"
      },
      "source": [
        "\n",
        "train_datagen = ImageDataGenerator(rescale=1./255,\n",
        "                                   rotation_range=40,\n",
        "                                   width_shift_range=0.2,\n",
        "                                   height_shift_range=0.2,\n",
        "                                   shear_range=0.2,\n",
        "                                   zoom_range=0.2,\n",
        "                                   horizontal_flip=True,)\n",
        "\n",
        "test_datagen = ImageDataGenerator(rescale=1./255)\n",
        "\n",
        "train_generator = train_datagen.flow_from_directory(train_dir,\n",
        "                                                    target_size=(150, 150),\n",
        "                                                    batch_size=32,\n",
        "                                                    class_mode='binary')\n",
        "\n",
        "validation_generator = test_datagen.flow_from_directory(validation_dir,\n",
        "                                                        target_size=(150, 150),\n",
        "                                                        batch_size=32,\n",
        "                                                        class_mode='binary')\n",
        "\n"
      ],
      "execution_count": 29,
      "outputs": [
        {
          "output_type": "stream",
          "text": [
            "Found 2000 images belonging to 2 classes.\n",
            "Found 1000 images belonging to 2 classes.\n"
          ],
          "name": "stdout"
        }
      ]
    },
    {
      "cell_type": "code",
      "metadata": {
        "id": "l_NTTNlaGZDI"
      },
      "source": [
        "history = model.fit_generator(train_generator,\n",
        "                              steps_per_epoch=100,\n",
        "                              epochs=20,\n",
        "                              validation_data=validation_generator,\n",
        "                              validation_steps=50)"
      ],
      "execution_count": null,
      "outputs": []
    },
    {
      "cell_type": "markdown",
      "metadata": {
        "id": "BRdU5yrkUF_b"
      },
      "source": [
        "# Task 2:\n",
        "\n",
        "We have used Dropout to enhance the performance of the CNN model. Can you please use whatever you like to further enhance the performance from `val_acc: 0.7506`? "
      ]
    },
    {
      "cell_type": "code",
      "metadata": {
        "colab": {
          "base_uri": "https://localhost:8080/"
        },
        "id": "ETJgfXQ977Ej",
        "outputId": "bb5d7efd-9dce-41f5-b25f-839519693e66"
      },
      "source": [
        "train_generator = train_datagen.flow_from_directory(train_dir,\n",
        "                                                    target_size=(150, 150),\n",
        "                                                    batch_size=32,\n",
        "                                                    class_mode='binary')\n",
        "\n",
        "validation_generator = test_datagen.flow_from_directory(validation_dir,\n",
        "                                                        target_size=(150, 150),\n",
        "                                                        batch_size=32,\n",
        "                                                        class_mode='binary')\n",
        "\n",
        "model.fit_generator(train_generator,\n",
        "                              steps_per_epoch=1500//32,\n",
        "                              epochs=64,\n",
        "                              validation_data=validation_generator,\n",
        "                              validation_steps=1500//32)"
      ],
      "execution_count": 31,
      "outputs": [
        {
          "output_type": "stream",
          "text": [
            "Found 2000 images belonging to 2 classes.\n",
            "Found 1000 images belonging to 2 classes.\n"
          ],
          "name": "stdout"
        },
        {
          "output_type": "stream",
          "text": [
            "/usr/local/lib/python3.7/dist-packages/tensorflow/python/keras/engine/training.py:1844: UserWarning: `Model.fit_generator` is deprecated and will be removed in a future version. Please use `Model.fit`, which supports generators.\n",
            "  warnings.warn('`Model.fit_generator` is deprecated and '\n"
          ],
          "name": "stderr"
        },
        {
          "output_type": "stream",
          "text": [
            "Epoch 1/64\n",
            "46/46 [==============================] - ETA: 0s - loss: 0.6756 - acc: 0.5783WARNING:tensorflow:Your input ran out of data; interrupting training. Make sure that your dataset or generator can generate at least `steps_per_epoch * epochs` batches (in this case, 46 batches). You may need to use the repeat() function when building your dataset.\n",
            "46/46 [==============================] - 13s 286ms/step - loss: 0.6756 - acc: 0.5783 - val_loss: 0.6636 - val_acc: 0.6010\n",
            "Epoch 2/64\n",
            "46/46 [==============================] - 10s 226ms/step - loss: 0.6729 - acc: 0.5769\n",
            "Epoch 3/64\n",
            "46/46 [==============================] - 10s 226ms/step - loss: 0.6539 - acc: 0.6148\n",
            "Epoch 4/64\n",
            "46/46 [==============================] - 10s 223ms/step - loss: 0.6578 - acc: 0.5948\n",
            "Epoch 5/64\n",
            "46/46 [==============================] - 10s 223ms/step - loss: 0.6417 - acc: 0.6229\n",
            "Epoch 6/64\n",
            "46/46 [==============================] - 10s 222ms/step - loss: 0.6326 - acc: 0.6264\n",
            "Epoch 7/64\n",
            "46/46 [==============================] - 10s 225ms/step - loss: 0.6247 - acc: 0.6429\n",
            "Epoch 8/64\n",
            "46/46 [==============================] - 10s 226ms/step - loss: 0.6189 - acc: 0.6454\n",
            "Epoch 9/64\n",
            "46/46 [==============================] - 10s 222ms/step - loss: 0.6172 - acc: 0.6600\n",
            "Epoch 10/64\n",
            "46/46 [==============================] - 10s 224ms/step - loss: 0.5907 - acc: 0.6793\n",
            "Epoch 11/64\n",
            "46/46 [==============================] - 10s 225ms/step - loss: 0.6012 - acc: 0.6692\n",
            "Epoch 12/64\n",
            "46/46 [==============================] - 10s 225ms/step - loss: 0.5910 - acc: 0.6848\n",
            "Epoch 13/64\n",
            "46/46 [==============================] - 10s 223ms/step - loss: 0.5922 - acc: 0.6868\n",
            "Epoch 14/64\n",
            "46/46 [==============================] - 10s 222ms/step - loss: 0.5914 - acc: 0.6731\n",
            "Epoch 15/64\n",
            "46/46 [==============================] - 10s 225ms/step - loss: 0.5845 - acc: 0.6766\n",
            "Epoch 16/64\n",
            "46/46 [==============================] - 10s 227ms/step - loss: 0.5835 - acc: 0.6943\n",
            "Epoch 17/64\n",
            "46/46 [==============================] - 10s 224ms/step - loss: 0.5737 - acc: 0.6957\n",
            "Epoch 18/64\n",
            "46/46 [==============================] - 10s 222ms/step - loss: 0.5847 - acc: 0.6868\n",
            "Epoch 19/64\n",
            "46/46 [==============================] - 10s 223ms/step - loss: 0.5738 - acc: 0.6923\n",
            "Epoch 20/64\n",
            "46/46 [==============================] - 10s 224ms/step - loss: 0.5547 - acc: 0.7218\n",
            "Epoch 21/64\n",
            "46/46 [==============================] - 10s 227ms/step - loss: 0.5590 - acc: 0.7072\n",
            "Epoch 22/64\n",
            "46/46 [==============================] - 10s 224ms/step - loss: 0.5724 - acc: 0.6896\n",
            "Epoch 23/64\n",
            "46/46 [==============================] - 10s 224ms/step - loss: 0.5565 - acc: 0.7184\n",
            "Epoch 24/64\n",
            "46/46 [==============================] - 10s 222ms/step - loss: 0.5552 - acc: 0.7198\n",
            "Epoch 25/64\n",
            "46/46 [==============================] - 10s 225ms/step - loss: 0.5620 - acc: 0.7126\n",
            "Epoch 26/64\n",
            "46/46 [==============================] - 10s 222ms/step - loss: 0.5352 - acc: 0.7328\n",
            "Epoch 27/64\n",
            "46/46 [==============================] - 10s 224ms/step - loss: 0.5504 - acc: 0.7205\n",
            "Epoch 28/64\n",
            "46/46 [==============================] - 10s 222ms/step - loss: 0.5367 - acc: 0.7122\n",
            "Epoch 29/64\n",
            "46/46 [==============================] - 10s 223ms/step - loss: 0.5472 - acc: 0.7253\n",
            "Epoch 30/64\n",
            "46/46 [==============================] - 10s 224ms/step - loss: 0.5467 - acc: 0.7133\n",
            "Epoch 31/64\n",
            "46/46 [==============================] - 10s 226ms/step - loss: 0.5252 - acc: 0.7315\n",
            "Epoch 32/64\n",
            "46/46 [==============================] - 10s 223ms/step - loss: 0.5279 - acc: 0.7280\n",
            "Epoch 33/64\n",
            "46/46 [==============================] - 10s 226ms/step - loss: 0.5308 - acc: 0.7432\n",
            "Epoch 34/64\n",
            "46/46 [==============================] - 10s 222ms/step - loss: 0.5390 - acc: 0.7253\n",
            "Epoch 35/64\n",
            "46/46 [==============================] - 10s 223ms/step - loss: 0.5347 - acc: 0.7253\n",
            "Epoch 36/64\n",
            "46/46 [==============================] - 10s 224ms/step - loss: 0.5255 - acc: 0.7323\n",
            "Epoch 37/64\n",
            "46/46 [==============================] - 10s 222ms/step - loss: 0.5134 - acc: 0.7459\n",
            "Epoch 38/64\n",
            "46/46 [==============================] - 10s 226ms/step - loss: 0.5324 - acc: 0.7371\n",
            "Epoch 39/64\n",
            "46/46 [==============================] - 10s 227ms/step - loss: 0.5140 - acc: 0.7480\n",
            "Epoch 40/64\n",
            "46/46 [==============================] - 10s 223ms/step - loss: 0.5189 - acc: 0.7397\n",
            "Epoch 41/64\n",
            "46/46 [==============================] - 10s 224ms/step - loss: 0.5231 - acc: 0.7376\n",
            "Epoch 42/64\n",
            "46/46 [==============================] - 10s 227ms/step - loss: 0.5267 - acc: 0.7376\n",
            "Epoch 43/64\n",
            "46/46 [==============================] - 10s 223ms/step - loss: 0.5060 - acc: 0.7493\n",
            "Epoch 44/64\n",
            "46/46 [==============================] - 10s 224ms/step - loss: 0.5151 - acc: 0.7432\n",
            "Epoch 45/64\n",
            "46/46 [==============================] - 10s 225ms/step - loss: 0.5104 - acc: 0.7473\n",
            "Epoch 46/64\n",
            "46/46 [==============================] - 10s 224ms/step - loss: 0.4945 - acc: 0.7576\n",
            "Epoch 47/64\n",
            "46/46 [==============================] - 10s 223ms/step - loss: 0.4977 - acc: 0.7438\n",
            "Epoch 48/64\n",
            "46/46 [==============================] - 10s 227ms/step - loss: 0.5135 - acc: 0.7473\n",
            "Epoch 49/64\n",
            "46/46 [==============================] - 10s 222ms/step - loss: 0.4965 - acc: 0.7486\n",
            "Epoch 50/64\n",
            "46/46 [==============================] - 10s 223ms/step - loss: 0.5127 - acc: 0.7370\n",
            "Epoch 51/64\n",
            "46/46 [==============================] - 10s 225ms/step - loss: 0.5038 - acc: 0.7672\n",
            "Epoch 52/64\n",
            "46/46 [==============================] - 10s 225ms/step - loss: 0.4901 - acc: 0.7527\n",
            "Epoch 53/64\n",
            "46/46 [==============================] - 10s 222ms/step - loss: 0.5055 - acc: 0.7569\n",
            "Epoch 54/64\n",
            "46/46 [==============================] - 10s 225ms/step - loss: 0.4967 - acc: 0.7541\n",
            "Epoch 55/64\n",
            "46/46 [==============================] - 10s 225ms/step - loss: 0.4930 - acc: 0.7724\n",
            "Epoch 56/64\n",
            "46/46 [==============================] - 10s 224ms/step - loss: 0.4895 - acc: 0.7603\n",
            "Epoch 57/64\n",
            "46/46 [==============================] - 10s 223ms/step - loss: 0.4862 - acc: 0.7651\n",
            "Epoch 58/64\n",
            "46/46 [==============================] - 10s 225ms/step - loss: 0.4676 - acc: 0.7724\n",
            "Epoch 59/64\n",
            "46/46 [==============================] - 10s 225ms/step - loss: 0.4770 - acc: 0.7677\n",
            "Epoch 60/64\n",
            "46/46 [==============================] - 10s 224ms/step - loss: 0.4693 - acc: 0.7754\n",
            "Epoch 61/64\n",
            "46/46 [==============================] - 11s 228ms/step - loss: 0.4755 - acc: 0.7738\n",
            "Epoch 62/64\n",
            "46/46 [==============================] - 10s 225ms/step - loss: 0.4858 - acc: 0.7617\n",
            "Epoch 63/64\n",
            "46/46 [==============================] - 10s 222ms/step - loss: 0.4691 - acc: 0.7589\n",
            "Epoch 64/64\n",
            "46/46 [==============================] - 10s 223ms/step - loss: 0.4677 - acc: 0.7816\n"
          ],
          "name": "stdout"
        },
        {
          "output_type": "execute_result",
          "data": {
            "text/plain": [
              "<tensorflow.python.keras.callbacks.History at 0x7faf24fb01d0>"
            ]
          },
          "metadata": {
            "tags": []
          },
          "execution_count": 31
        }
      ]
    },
    {
      "cell_type": "markdown",
      "metadata": {
        "id": "IUnYg0dBJHmY"
      },
      "source": [
        "Got 0.7816 accuracy on 64 epoch."
      ]
    }
  ]
}